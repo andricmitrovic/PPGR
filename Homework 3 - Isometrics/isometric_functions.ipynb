{
 "cells": [
  {
   "cell_type": "code",
   "execution_count": 1,
   "id": "eab0e025",
   "metadata": {},
   "outputs": [],
   "source": [
    "import numpy as np\n",
    "from numpy.linalg import norm\n",
    "from numpy import arctan, arcsin, arccos, cos, sin, dot, cross, matmul, arctan2"
   ]
  },
  {
   "cell_type": "code",
   "execution_count": 2,
   "id": "fc742e2b",
   "metadata": {},
   "outputs": [],
   "source": [
    "def Euler_Angles(angles):\n",
    "    alfa, beta, gama = angles\n",
    "    \n",
    "    Rx = np.array([[1,         0,          0],\n",
    "                   [0, cos(alfa), -sin(alfa)],\n",
    "                   [0, sin(alfa),  cos(alfa)]])\n",
    "    \n",
    "    Ry = np.array([[cos(beta),  0, sin(beta)],\n",
    "                   [        0,  1,         0],\n",
    "                   [-sin(beta), 0, cos(beta)]])\n",
    "    \n",
    "    Rz = np.array([[cos(gama), -sin(gama), 0],\n",
    "                   [sin(gama),  cos(gama), 0],\n",
    "                   [0,                  0, 1]])\n",
    "    \n",
    "    A = np.matmul(Rz, matmul(Ry, Rx))\n",
    "    return np.array(A)"
   ]
  },
  {
   "cell_type": "code",
   "execution_count": 3,
   "id": "d1604826",
   "metadata": {},
   "outputs": [],
   "source": [
    "def Matrix_AxisAngle(A):\n",
    "    # Calc p\n",
    "    M = A - np.identity(3)\n",
    "    \n",
    "    # Check if rows are not same to the factor\n",
    "    row1 = np.array(M[0] / M[0][0])\n",
    "    row2 = np.array(M[1] / M[1][0])\n",
    "    row3 = np.array(M[2] / M[2][0])\n",
    "    \n",
    "    if not np.array_equal(row1, row2):\n",
    "        p = cross(row1, row2)\n",
    "    else:\n",
    "        p = cross(row1, row3)\n",
    "        \n",
    "    p = p/norm(p)\n",
    "    \n",
    "    # Calc normal vector on p\n",
    "    if p[0] != 0:\n",
    "        u = [-(p[1] + p[2])/p[0], 1, 1]\n",
    "    elif p[1] != 0:\n",
    "        u = [1, -(p[0] + p[2])/p[1], 1]\n",
    "    elif p[2] != 0:\n",
    "        u = [1, 1, -(p[0] + p[1])/p[2]]\n",
    "        \n",
    "    u = u / norm(u)\n",
    "    \n",
    "    # Calc u projection\n",
    "    up = matmul(A, u)\n",
    "    \n",
    "    # Calc angle\n",
    "    fi = arccos( dot(u, up) / (norm(u)*norm(up)) )\n",
    "    \n",
    "    # Check positive orientation\n",
    "    if dot(cross(u, up), p) < 0:\n",
    "        p = -p\n",
    "    \n",
    "    return np.array(p), fi"
   ]
  },
  {
   "cell_type": "code",
   "execution_count": 4,
   "id": "9452d3d4",
   "metadata": {},
   "outputs": [],
   "source": [
    "def Rodrigez(p, fi):\n",
    "    px = np.array([[    0, -p[2],  p[1]],\n",
    "                   [ p[2],     0, -p[0]],\n",
    "                   [-p[1],  p[0],     0]])\n",
    "    p = np.matrix(p)\n",
    "    C1 = matmul(p.T, p)\n",
    "    C2 = cos(fi)*(np.identity(3) - C1)\n",
    "    C3 = sin(fi)*px\n",
    "                  \n",
    "    A = C1 + C2 + C3\n",
    "    return np.array(A)  "
   ]
  },
  {
   "cell_type": "code",
   "execution_count": 5,
   "id": "f438eb2e",
   "metadata": {},
   "outputs": [],
   "source": [
    "def Matrix_Angles(A):\n",
    "    if A[2][0] < 1:\n",
    "        if A[2][0] > -1:  # unique solution\n",
    "            alfa = arctan2(A[2][1], A[2][2])\n",
    "            beta = arcsin(-A[2][0])\n",
    "            gama = arctan2(A[1][0], A[0][0])\n",
    "            print('unique')\n",
    "        else:            # not unique: case Ox3 = -Oz\n",
    "            alfa = 0\n",
    "            beta = np.pi / 2\n",
    "            gama = arctan2(-A[0][1], A[1][1])\n",
    "            print('not unique')\n",
    "    else:                # not unique: case Ox3 = Oz\n",
    "            alfa = 0\n",
    "            beta = -np.pi / 2\n",
    "            gama = arctan2(-A[0][1], A[1][1])\n",
    "            print('not unique')\n",
    "    \n",
    "    return np.array([alfa, beta, gama])     "
   ]
  },
  {
   "cell_type": "code",
   "execution_count": 6,
   "id": "7f0e01e8",
   "metadata": {},
   "outputs": [],
   "source": [
    "def AngleAxis_Quaternion(p, fi):\n",
    "    w = cos(fi/2)\n",
    "    \n",
    "    p = p / norm(p)\n",
    "    x, y, z = sin(fi/2)*p\n",
    "    \n",
    "    return np.array([x, y, z, w])"
   ]
  },
  {
   "cell_type": "code",
   "execution_count": 7,
   "id": "ef6ebd4b",
   "metadata": {},
   "outputs": [],
   "source": [
    "def Quaternion_AngleAxis(q):\n",
    "    q = q / norm(q)\n",
    "    \n",
    "    if q[3]<0:\n",
    "        q = -q\n",
    "    \n",
    "    fi = 2*arccos(q[3])\n",
    "    \n",
    "    if q[3]==1:\n",
    "        p = [1, 0, 0]\n",
    "    else:\n",
    "        p = [q[0], q[1], q[2]]\n",
    "        p = p / norm(p)\n",
    "    \n",
    "    return np.array(p), fi"
   ]
  },
  {
   "cell_type": "markdown",
   "id": "73184721",
   "metadata": {},
   "source": [
    "### Testing 1"
   ]
  },
  {
   "cell_type": "code",
   "execution_count": 8,
   "id": "6943957c",
   "metadata": {},
   "outputs": [
    {
     "data": {
      "text/plain": [
       "[-0.24497866312686414, -1.0949140771344799, 1.3258176636680326]"
      ]
     },
     "execution_count": 8,
     "metadata": {},
     "output_type": "execute_result"
    }
   ],
   "source": [
    "angles = [-arctan(1/4), -arcsin(8/9), arctan(4)]\n",
    "angles"
   ]
  },
  {
   "cell_type": "code",
   "execution_count": 9,
   "id": "1c00d79a",
   "metadata": {
    "scrolled": true
   },
   "outputs": [
    {
     "data": {
      "text/plain": [
       "array([[ 0.11111111, -0.88888889, -0.44444444],\n",
       "       [ 0.44444444,  0.44444444, -0.77777778],\n",
       "       [ 0.88888889, -0.11111111,  0.44444444]])"
      ]
     },
     "execution_count": 9,
     "metadata": {},
     "output_type": "execute_result"
    }
   ],
   "source": [
    "A = Euler_Angles(angles)\n",
    "A"
   ]
  },
  {
   "cell_type": "code",
   "execution_count": 10,
   "id": "f19ef376",
   "metadata": {},
   "outputs": [
    {
     "name": "stdout",
     "output_type": "stream",
     "text": [
      "Orthogonal\n"
     ]
    }
   ],
   "source": [
    "if np.array_equal(matmul(A, A.T).round(5), np.identity(3)):\n",
    "    print('Orthogonal')\n",
    "else:\n",
    "    print('ERROR: Not orthogonal matrix')\n",
    "    print(matmul(A, A.T))"
   ]
  },
  {
   "cell_type": "code",
   "execution_count": 11,
   "id": "cbaf27d5",
   "metadata": {},
   "outputs": [
    {
     "name": "stdout",
     "output_type": "stream",
     "text": [
      "Determinant equals:0.9999999999999999\n"
     ]
    }
   ],
   "source": [
    "print(f'Determinant equals:{np.linalg.det(A)}')"
   ]
  },
  {
   "cell_type": "code",
   "execution_count": 12,
   "id": "69b75187",
   "metadata": {},
   "outputs": [
    {
     "data": {
      "text/plain": [
       "(array([ 0.33333333, -0.66666667,  0.66666667]), 1.5707963267948966)"
      ]
     },
     "execution_count": 12,
     "metadata": {},
     "output_type": "execute_result"
    }
   ],
   "source": [
    "p, fi = Matrix_AxisAngle(A)\n",
    "p, fi"
   ]
  },
  {
   "cell_type": "code",
   "execution_count": 13,
   "id": "f4cc3141",
   "metadata": {},
   "outputs": [
    {
     "data": {
      "text/plain": [
       "array([[ 0.11111111, -0.88888889, -0.44444444],\n",
       "       [ 0.44444444,  0.44444444, -0.77777778],\n",
       "       [ 0.88888889, -0.11111111,  0.44444444]])"
      ]
     },
     "execution_count": 13,
     "metadata": {},
     "output_type": "execute_result"
    }
   ],
   "source": [
    "A_calculated = Rodrigez(p, fi)\n",
    "A_calculated"
   ]
  },
  {
   "cell_type": "code",
   "execution_count": 14,
   "id": "f3de3d45",
   "metadata": {},
   "outputs": [
    {
     "name": "stdout",
     "output_type": "stream",
     "text": [
      "unique\n"
     ]
    },
    {
     "data": {
      "text/plain": [
       "array([-0.24497866, -1.09491408,  1.32581766])"
      ]
     },
     "execution_count": 14,
     "metadata": {},
     "output_type": "execute_result"
    }
   ],
   "source": [
    "angles_calculated = Matrix_Angles(A_calculated)\n",
    "angles_calculated"
   ]
  },
  {
   "cell_type": "code",
   "execution_count": 15,
   "id": "088f80f2",
   "metadata": {},
   "outputs": [
    {
     "data": {
      "text/plain": [
       "array([ 0.23570226, -0.47140452,  0.47140452,  0.70710678])"
      ]
     },
     "execution_count": 15,
     "metadata": {},
     "output_type": "execute_result"
    }
   ],
   "source": [
    "q = AngleAxis_Quaternion(p, fi)\n",
    "q"
   ]
  },
  {
   "cell_type": "code",
   "execution_count": 16,
   "id": "0aafd1cc",
   "metadata": {},
   "outputs": [
    {
     "data": {
      "text/plain": [
       "(array([ 0.33333333, -0.66666667,  0.66666667]), 1.5707963267948966)"
      ]
     },
     "execution_count": 16,
     "metadata": {},
     "output_type": "execute_result"
    }
   ],
   "source": [
    "p, fi = Quaternion_AngleAxis(q)\n",
    "p, fi"
   ]
  },
  {
   "cell_type": "markdown",
   "id": "525eba20",
   "metadata": {},
   "source": [
    "### Testing 2"
   ]
  },
  {
   "cell_type": "code",
   "execution_count": 17,
   "id": "a2cb9b3b",
   "metadata": {},
   "outputs": [
    {
     "data": {
      "text/plain": [
       "[1.0471975511965976, 1.0471975511965976, 1.0471975511965976]"
      ]
     },
     "execution_count": 17,
     "metadata": {},
     "output_type": "execute_result"
    }
   ],
   "source": [
    "angles = [np.pi/3, np.pi/3, np.pi/3]\n",
    "angles"
   ]
  },
  {
   "cell_type": "code",
   "execution_count": 18,
   "id": "63109d84",
   "metadata": {
    "scrolled": true
   },
   "outputs": [
    {
     "data": {
      "text/plain": [
       "array([[ 0.25      , -0.0580127 ,  0.96650635],\n",
       "       [ 0.4330127 ,  0.89951905, -0.0580127 ],\n",
       "       [-0.8660254 ,  0.4330127 ,  0.25      ]])"
      ]
     },
     "execution_count": 18,
     "metadata": {},
     "output_type": "execute_result"
    }
   ],
   "source": [
    "A = Euler_Angles(angles)\n",
    "A"
   ]
  },
  {
   "cell_type": "code",
   "execution_count": 19,
   "id": "c3a16ce7",
   "metadata": {},
   "outputs": [
    {
     "name": "stdout",
     "output_type": "stream",
     "text": [
      "Orthogonal\n"
     ]
    }
   ],
   "source": [
    "if np.array_equal(matmul(A, A.T).round(5), np.identity(3)):\n",
    "    print('Orthogonal')\n",
    "else:\n",
    "    print('ERROR: Not orthogonal matrix')\n",
    "    print(matmul(A, A.T))"
   ]
  },
  {
   "cell_type": "code",
   "execution_count": 20,
   "id": "abd5bc3f",
   "metadata": {},
   "outputs": [
    {
     "name": "stdout",
     "output_type": "stream",
     "text": [
      "Determinant equals:1.0000000000000002\n"
     ]
    }
   ],
   "source": [
    "print(f'Determinant equals:{np.linalg.det(A)}')"
   ]
  },
  {
   "cell_type": "code",
   "execution_count": 21,
   "id": "a7cd5a57",
   "metadata": {},
   "outputs": [
    {
     "data": {
      "text/plain": [
       "(array([0.25056281, 0.93511313, 0.25056281]), 1.3696838321801164)"
      ]
     },
     "execution_count": 21,
     "metadata": {},
     "output_type": "execute_result"
    }
   ],
   "source": [
    "p, fi = Matrix_AxisAngle(A)\n",
    "p, fi"
   ]
  },
  {
   "cell_type": "code",
   "execution_count": 22,
   "id": "2da5ce8d",
   "metadata": {},
   "outputs": [
    {
     "data": {
      "text/plain": [
       "array([[ 0.25      , -0.0580127 ,  0.96650635],\n",
       "       [ 0.4330127 ,  0.89951905, -0.0580127 ],\n",
       "       [-0.8660254 ,  0.4330127 ,  0.25      ]])"
      ]
     },
     "execution_count": 22,
     "metadata": {},
     "output_type": "execute_result"
    }
   ],
   "source": [
    "A_calculated = Rodrigez(p, fi)\n",
    "A_calculated"
   ]
  },
  {
   "cell_type": "code",
   "execution_count": 23,
   "id": "cf7b0e45",
   "metadata": {},
   "outputs": [
    {
     "name": "stdout",
     "output_type": "stream",
     "text": [
      "unique\n"
     ]
    },
    {
     "data": {
      "text/plain": [
       "array([1.04719755, 1.04719755, 1.04719755])"
      ]
     },
     "execution_count": 23,
     "metadata": {},
     "output_type": "execute_result"
    }
   ],
   "source": [
    "angles_calculated = Matrix_Angles(A_calculated)\n",
    "angles_calculated"
   ]
  },
  {
   "cell_type": "code",
   "execution_count": 24,
   "id": "671d1aa9",
   "metadata": {},
   "outputs": [
    {
     "data": {
      "text/plain": [
       "array([0.15849365, 0.59150635, 0.15849365, 0.77451905])"
      ]
     },
     "execution_count": 24,
     "metadata": {},
     "output_type": "execute_result"
    }
   ],
   "source": [
    "q = AngleAxis_Quaternion(p, fi)\n",
    "q"
   ]
  },
  {
   "cell_type": "code",
   "execution_count": 25,
   "id": "7bc4289b",
   "metadata": {
    "scrolled": true
   },
   "outputs": [
    {
     "data": {
      "text/plain": [
       "(array([0.25056281, 0.93511313, 0.25056281]), 1.3696838321801161)"
      ]
     },
     "execution_count": 25,
     "metadata": {},
     "output_type": "execute_result"
    }
   ],
   "source": [
    "p, fi = Quaternion_AngleAxis(q)\n",
    "p, fi"
   ]
  },
  {
   "cell_type": "markdown",
   "id": "6abe892f",
   "metadata": {},
   "source": [
    "### Testing 3"
   ]
  },
  {
   "cell_type": "code",
   "execution_count": 26,
   "id": "3b712025",
   "metadata": {},
   "outputs": [
    {
     "data": {
      "text/plain": [
       "[1.5707963267948966, 1.0471975511965976, 1.0471975511965976]"
      ]
     },
     "execution_count": 26,
     "metadata": {},
     "output_type": "execute_result"
    }
   ],
   "source": [
    "angles = [np.pi/2, np.pi/3, np.pi/3]\n",
    "angles"
   ]
  },
  {
   "cell_type": "code",
   "execution_count": 27,
   "id": "3de52082",
   "metadata": {
    "scrolled": true
   },
   "outputs": [
    {
     "data": {
      "text/plain": [
       "array([[ 2.50000000e-01,  4.33012702e-01,  8.66025404e-01],\n",
       "       [ 4.33012702e-01,  7.50000000e-01, -5.00000000e-01],\n",
       "       [-8.66025404e-01,  5.00000000e-01,  3.06161700e-17]])"
      ]
     },
     "execution_count": 27,
     "metadata": {},
     "output_type": "execute_result"
    }
   ],
   "source": [
    "A = Euler_Angles(angles)\n",
    "A"
   ]
  },
  {
   "cell_type": "code",
   "execution_count": 28,
   "id": "606799c4",
   "metadata": {},
   "outputs": [
    {
     "name": "stdout",
     "output_type": "stream",
     "text": [
      "Orthogonal\n"
     ]
    }
   ],
   "source": [
    "if np.array_equal(matmul(A, A.T).round(5), np.identity(3)):\n",
    "    print('Orthogonal')\n",
    "else:\n",
    "    print('ERROR: Not orthogonal matrix')\n",
    "    print(matmul(A, A.T))"
   ]
  },
  {
   "cell_type": "code",
   "execution_count": 29,
   "id": "565a231b",
   "metadata": {},
   "outputs": [
    {
     "name": "stdout",
     "output_type": "stream",
     "text": [
      "Determinant equals:1.0\n"
     ]
    }
   ],
   "source": [
    "print(f'Determinant equals:{np.linalg.det(A)}')"
   ]
  },
  {
   "cell_type": "code",
   "execution_count": 30,
   "id": "f9832957",
   "metadata": {},
   "outputs": [
    {
     "data": {
      "text/plain": [
       "(array([0.66666667, 0.66666667, 0.33333333]), 1.5676288169515635)"
      ]
     },
     "execution_count": 30,
     "metadata": {},
     "output_type": "execute_result"
    }
   ],
   "source": [
    "p, fi = Matrix_AxisAngle(A)\n",
    "p, fi"
   ]
  },
  {
   "cell_type": "code",
   "execution_count": 31,
   "id": "8a83dea9",
   "metadata": {},
   "outputs": [
    {
     "data": {
      "text/plain": [
       "array([[ 0.44620417,  0.109705  ,  0.88818165],\n",
       "       [ 0.77636833,  0.44620417, -0.44514499],\n",
       "       [-0.44514499,  0.88818165,  0.11392667]])"
      ]
     },
     "execution_count": 31,
     "metadata": {},
     "output_type": "execute_result"
    }
   ],
   "source": [
    "A_calculated = Rodrigez(p, fi)\n",
    "A_calculated"
   ]
  },
  {
   "cell_type": "code",
   "execution_count": 32,
   "id": "752ed869",
   "metadata": {},
   "outputs": [
    {
     "name": "stdout",
     "output_type": "stream",
     "text": [
      "unique\n"
     ]
    },
    {
     "data": {
      "text/plain": [
       "array([1.44322338, 0.46133617, 1.04916305])"
      ]
     },
     "execution_count": 32,
     "metadata": {},
     "output_type": "execute_result"
    }
   ],
   "source": [
    "angles_calculated = Matrix_Angles(A_calculated)\n",
    "angles_calculated"
   ]
  },
  {
   "cell_type": "code",
   "execution_count": 33,
   "id": "871fe44a",
   "metadata": {},
   "outputs": [
    {
     "data": {
      "text/plain": [
       "array([0.47065734, 0.47065734, 0.23532867, 0.70822578])"
      ]
     },
     "execution_count": 33,
     "metadata": {},
     "output_type": "execute_result"
    }
   ],
   "source": [
    "q = AngleAxis_Quaternion(p, fi)\n",
    "q"
   ]
  },
  {
   "cell_type": "code",
   "execution_count": 34,
   "id": "c6eb01ba",
   "metadata": {
    "scrolled": true
   },
   "outputs": [
    {
     "data": {
      "text/plain": [
       "(array([0.66666667, 0.66666667, 0.33333333]), 1.5676288169515635)"
      ]
     },
     "execution_count": 34,
     "metadata": {},
     "output_type": "execute_result"
    }
   ],
   "source": [
    "p, fi = Quaternion_AngleAxis(q)\n",
    "p, fi"
   ]
  },
  {
   "cell_type": "code",
   "execution_count": null,
   "id": "b44429ab",
   "metadata": {},
   "outputs": [],
   "source": []
  },
  {
   "cell_type": "code",
   "execution_count": null,
   "id": "c822b396",
   "metadata": {},
   "outputs": [],
   "source": []
  }
 ],
 "metadata": {
  "kernelspec": {
   "display_name": "Python (mlenv)",
   "language": "python",
   "name": "mlenv"
  },
  "language_info": {
   "codemirror_mode": {
    "name": "ipython",
    "version": 3
   },
   "file_extension": ".py",
   "mimetype": "text/x-python",
   "name": "python",
   "nbconvert_exporter": "python",
   "pygments_lexer": "ipython3",
   "version": "3.8.12"
  }
 },
 "nbformat": 4,
 "nbformat_minor": 5
}
