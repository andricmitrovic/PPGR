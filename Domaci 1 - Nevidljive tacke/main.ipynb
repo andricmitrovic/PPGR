{
 "cells": [
  {
   "cell_type": "code",
   "execution_count": 169,
   "metadata": {},
   "outputs": [],
   "source": [
    "import numpy as np"
   ]
  },
  {
   "cell_type": "code",
   "execution_count": 170,
   "metadata": {},
   "outputs": [],
   "source": [
    "def affinize(coordinates):\n",
    "    return [coordinates[0]/coordinates[2], coordinates[1]/coordinates[2], 1]"
   ]
  },
  {
   "cell_type": "code",
   "execution_count": 171,
   "metadata": {},
   "outputs": [],
   "source": [
    "def calc_X_inf(points):\n",
    "    p26 = affinize(np.cross(points['P2'], points['P6']))\n",
    "    p15 = affinize(np.cross(points['P1'], points['P5']))\n",
    "    p37 = affinize(np.cross(points['P3'], points['P7']))\n",
    "    \n",
    "    X1  = affinize(np.cross(p26, p15))\n",
    "    X2  = affinize(np.cross(p26, p37))\n",
    "    X3  = affinize(np.cross(p15, p37))\n",
    "    X_mean = affinize(np.mean([X1, X2, X3], axis=0))\n",
    "    \n",
    "    return X_mean"
   ]
  },
  {
   "cell_type": "code",
   "execution_count": 172,
   "metadata": {},
   "outputs": [],
   "source": [
    "def calc_Y_inf(points):\n",
    "    p12 = affinize(np.cross(points['P1'], points['P2']))\n",
    "    p56 = affinize(np.cross(points['P5'], points['P6']))\n",
    "    p78 = affinize(np.cross(points['P7'], points['P8']))\n",
    "    \n",
    "    Y1  = affinize(np.cross(p12, p56))\n",
    "    Y2  = affinize(np.cross(p12, p78))\n",
    "    Y3  = affinize(np.cross(p56, p78))\n",
    "    Y_mean = affinize(np.mean([Y1, Y2, Y3], axis=0))\n",
    "    \n",
    "    return Y_mean"
   ]
  },
  {
   "cell_type": "code",
   "execution_count": 173,
   "metadata": {},
   "outputs": [],
   "source": [
    "def calc_invisible_point(points):\n",
    "    X_inf = calc_X_inf(points)\n",
    "    Y_inf = calc_Y_inf(points)\n",
    "    \n",
    "    p8x = affinize(np.cross(points['P8'], X_inf))\n",
    "    p3y = affinize(np.cross(points['P3'], Y_inf))\n",
    "    \n",
    "    P4 = affinize(np.cross(p8x, p3y))\n",
    "    \n",
    "    return np.rint(P4).astype(np.int32)"
   ]
  },
  {
   "cell_type": "code",
   "execution_count": 174,
   "metadata": {},
   "outputs": [],
   "source": [
    "# Points from test1.jpg\n",
    "test_points = {\n",
    "    'P1': [595, 301, 1],\n",
    "    'P2': [292, 517, 1],\n",
    "    'P3': [157, 379, 1],\n",
    "    'P5': [665, 116, 1],\n",
    "    'P6': [304, 295, 1],\n",
    "    'P7': [135, 163, 1],\n",
    "    'P8': [509, 43, 1]\n",
    "}"
   ]
  },
  {
   "cell_type": "code",
   "execution_count": 175,
   "metadata": {},
   "outputs": [],
   "source": [
    "# Points from image.jpeg\n",
    "my_points = {\n",
    "    'P1': [591, 401, 1],\n",
    "    'P2': [327, 611, 1],\n",
    "    'P3': [150, 466, 1],\n",
    "    'P5': [623, 201, 1],\n",
    "    'P6': [329, 397, 1],\n",
    "    'P7': [115, 256, 1],\n",
    "    'P8': [420, 111, 1]\n",
    "}"
   ]
  },
  {
   "cell_type": "markdown",
   "metadata": {},
   "source": [
    "# Testing"
   ]
  },
  {
   "cell_type": "code",
   "execution_count": 176,
   "metadata": {},
   "outputs": [
    {
     "data": {
      "text/plain": [
       "array([471, 220,   1])"
      ]
     },
     "execution_count": 176,
     "metadata": {},
     "output_type": "execute_result"
    }
   ],
   "source": [
    "calc_invisible_point(test_points)"
   ]
  },
  {
   "cell_type": "markdown",
   "metadata": {},
   "source": [
    "# My results"
   ]
  },
  {
   "cell_type": "code",
   "execution_count": 178,
   "metadata": {},
   "outputs": [
    {
     "data": {
      "text/plain": [
       "array([410, 302,   1])"
      ]
     },
     "execution_count": 178,
     "metadata": {},
     "output_type": "execute_result"
    }
   ],
   "source": [
    "calc_invisible_point(my_points)"
   ]
  },
  {
   "cell_type": "code",
   "execution_count": null,
   "metadata": {},
   "outputs": [],
   "source": []
  }
 ],
 "metadata": {
  "kernelspec": {
   "display_name": "Python 3",
   "language": "python",
   "name": "python3"
  },
  "language_info": {
   "codemirror_mode": {
    "name": "ipython",
    "version": 3
   },
   "file_extension": ".py",
   "mimetype": "text/x-python",
   "name": "python",
   "nbconvert_exporter": "python",
   "pygments_lexer": "ipython3",
   "version": "3.8.3"
  }
 },
 "nbformat": 4,
 "nbformat_minor": 4
}
